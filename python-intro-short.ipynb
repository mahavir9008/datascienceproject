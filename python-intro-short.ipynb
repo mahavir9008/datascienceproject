{
 "cells": [
  {
   "cell_type": "markdown",
   "metadata": {},
   "source": [
    "## Jupyter Notebook Basics\n",
    "\n",
    "- this is a cell!\n",
    "- there are two modes to this cell\n",
    "    - edit mode - when you are typing in the cell\n",
    "    - command mode - hit escape to go into this mode\n",
    "- you can write python code here. You can also write markdown here. But not both together :(\n",
    "- if you write code, the output from the last line is printed out automatically\n",
    "- see the brackets next on the left of the cell? If they are empty, it means this cell has not been run yet!\n",
    "- if they have an Asterisk in them, the cell is running!\n",
    "- if it has a number, the cell was run at some point in the past. The number increase by one every time you run a cell\n",
    "- markdown cells do not get these numbers\n",
    "- if you are ever stuck if the notebook is not behaving, you can `Restart Kernel`\n",
    "- to run a cell, use the menu on top. You can also run a cell by using `shift + enter`\n",
    "- you can insert a cell before or after a cell by using the toolbar menu or by using the following shortcuts in the command mode\n",
    "   - A - insert above\n",
    "   - B - insert below\n",
    "   - DD - delete cell\n"
   ]
  },
  {
   "cell_type": "code",
   "execution_count": null,
   "metadata": {},
   "outputs": [],
   "source": [
    "# simply click on the cell and write some code\n",
    "34+8"
   ]
  },
  {
   "cell_type": "code",
   "execution_count": null,
   "metadata": {},
   "outputs": [],
   "source": [
    "# you can install packages from pypip as usual. \n",
    "!pip install pyjokes"
   ]
  },
  {
   "cell_type": "code",
   "execution_count": null,
   "metadata": {},
   "outputs": [],
   "source": [
    "# you can now use the package\n",
    "import pyjokes\n",
    "\n",
    "print(pyjokes.get_joke())"
   ]
  },
  {
   "cell_type": "markdown",
   "metadata": {},
   "source": [
    "## Some Python if you need a quick refresher"
   ]
  },
  {
   "cell_type": "markdown",
   "metadata": {},
   "source": [
    "Let's look at some basic data structures in Python\n",
    "\n",
    "   - str (string)\n",
    "   - List (mutable, order maintained)\n",
    "   - Tuple (immutable)\n",
    "   - Set (unordered, unique)\n",
    "   - Dictionary (mutable, key-value pairs)\n",
    "\n",
    "    \n"
   ]
  },
  {
   "cell_type": "code",
   "execution_count": null,
   "metadata": {},
   "outputs": [],
   "source": [
    "#you can also write python functions\n",
    "def greetings(name):\n",
    "    if name:\n",
    "        print('hello', name, '!')\n",
    "    else:\n",
    "        print('hello there!')"
   ]
  },
  {
   "cell_type": "code",
   "execution_count": null,
   "metadata": {},
   "outputs": [],
   "source": [
    "#you can call that function from any other cell once it has been declared and defined\n",
    "greetings('upkar')"
   ]
  },
  {
   "cell_type": "code",
   "execution_count": null,
   "metadata": {},
   "outputs": [],
   "source": [
    "#this is a string (str)\n",
    "hackathon = \"spectra\"\n",
    "print('length of the string:', len(hackathon))\n",
    "print('first character of the string:', hackathon[0])\n",
    "print('last character of the string:', hackathon[-1])\n",
    "print('capitalize string: ', hackathon.capitalize())\n",
    "print('uppper case string: ', hackathon.upper())\n",
    "print('find tra in the string: ', hackathon.find('tra')) #start counting from 0\n",
    "#Many more methods available. Read the docs - https://docs.python.org/3/library/stdtypes.html#string-methods"
   ]
  },
  {
   "cell_type": "code",
   "execution_count": null,
   "metadata": {},
   "outputs": [],
   "source": [
    "#this is a list\n",
    "states = [\"Alabama\", \"Alaska\", \"Arizona\", \"Arkansas\", \"California\", \"Colorado\", \"Connecticut\", \"Delaware\", \"Florida\"]\n",
    "print('number of states:', len(states))\n",
    "print('first state: ', states[0])\n",
    "print('last state: ', states[-1])\n",
    "print('list contains California?', 'California' in states)\n",
    "print('where is California in the list?', states.index('California'))\n",
    "print('list first three states:', states[:3])\n",
    "print('list last three states:', states[-3:])\n",
    "\n",
    "#more advanced\n",
    "print('filter list to only states starting with C:', list(filter(lambda x: x.startswith('C'),states)))\n",
    "print('filter list to only states starting with C:', [state for state in states if state.startswith('C')])\n",
    "#Many more methods available. Read the docs - https://docs.python.org/3/tutorial/datastructures.html"
   ]
  },
  {
   "cell_type": "code",
   "execution_count": null,
   "metadata": {},
   "outputs": [],
   "source": [
    "#this is a dictionary. They are unordered, so first and last makes little sense\n",
    "states = {\n",
    "'AL': 'Alabama',\n",
    "'AK': 'Alaska',\n",
    "'AZ': 'Arizona',\n",
    "'AR': 'Arkansas',\n",
    "'CA' : 'California',\n",
    "'CO': 'Colorado',\n",
    "'CT': 'Connecticut',\n",
    "'DE': 'Delaware',\n",
    "'FL': 'Florida'\n",
    "}\n",
    "print('keys in states:', states.keys())\n",
    "print('values in states:', states.values())\n",
    "print('# states in dict:', len(states))\n",
    "print('find ca:', states['CA'])\n",
    "print('is FL in the list:', 'FL' in states)\n",
    "print('is Florida in the list: ', 'Florida' in states.values())\n",
    "#Many more methods available. Read the docs - https://docs.python.org/3.6/tutorial/datastructures.html#dictionaries"
   ]
  },
  {
   "cell_type": "markdown",
   "metadata": {},
   "source": [
    "## Data structures in Pandas - Series"
   ]
  },
  {
   "cell_type": "code",
   "execution_count": null,
   "metadata": {},
   "outputs": [],
   "source": [
    "import pandas as pd\n",
    "import numpy as np"
   ]
  },
  {
   "cell_type": "code",
   "execution_count": null,
   "metadata": {},
   "outputs": [],
   "source": [
    "#This is a series. Think of this as a list with an index!\n",
    "states = pd.Series([\"Alabama\", \"Alaska\", \"Arizona\", \"Arkansas\", \"California\", \"Colorado\", \"Connecticut\", \"Delaware\", \"Florida\"])\n",
    "states"
   ]
  },
  {
   "cell_type": "code",
   "execution_count": null,
   "metadata": {},
   "outputs": [],
   "source": [
    "#you can give the data your own index!\n",
    "states = [\"Alabama\", \"Alaska\", \"Arizona\", \"Arkansas\", \"California\", \"Colorado\", \"Connecticut\", \"Delaware\", \"Florida\"]\n",
    "abb = ['AL','AK','AZ','AR','CA','CO','CT','DE','FL']\n",
    "states = pd.Series(data=states, index=abb)\n",
    "states\n"
   ]
  },
  {
   "cell_type": "code",
   "execution_count": null,
   "metadata": {},
   "outputs": [],
   "source": [
    "#slice and dice\n",
    "print('first state:', states[0])\n",
    "print('first index:', states.index[0])\n",
    "print('\\n\\n')\n",
    "print('first three states:')\n",
    "print(states[0:3])\n",
    "print('\\n\\n')\n",
    "print('last three states:')\n",
    "print(states[-3:])"
   ]
  },
  {
   "cell_type": "code",
   "execution_count": null,
   "metadata": {},
   "outputs": [],
   "source": [
    "#you can create series out of comprehensions and anything else that returns an iterable\n",
    "fours = pd.Series([x**4 for x in range(6)])\n",
    "fours"
   ]
  },
  {
   "cell_type": "code",
   "execution_count": null,
   "metadata": {},
   "outputs": [],
   "source": [
    "#numpy has a wonderful random number generator that is useful in creating dummy data. Returns np.array\n",
    "rand = pd.Series(np.random.rand(5))\n",
    "rand\n"
   ]
  },
  {
   "cell_type": "markdown",
   "metadata": {},
   "source": [
    "## Data structures in Pandas - Dataframes"
   ]
  },
  {
   "cell_type": "code",
   "execution_count": null,
   "metadata": {},
   "outputs": [],
   "source": [
    "#dataframe is a like a table\n",
    "state_data = {\n",
    "    'abb':['AL','AK','AZ','AR','CA','CO','CT','DE','FL'],\n",
    "    'name':[\"Alabama\", \"Alaska\", \"Arizona\", \"Arkansas\", \"California\", \"Colorado\", \"Connecticut\", \"Delaware\", \"Florida\"],\n",
    "    'temp': np.random.rand(9)\n",
    "}\n",
    "df_state = pd.DataFrame(state_data)\n",
    "df_state"
   ]
  },
  {
   "cell_type": "code",
   "execution_count": null,
   "metadata": {},
   "outputs": [],
   "source": [
    "df = pd.DataFrame(data = np.random.randn(2,2), columns=['Temp', 'Humidity'])\n",
    "df"
   ]
  },
  {
   "cell_type": "code",
   "execution_count": null,
   "metadata": {},
   "outputs": [],
   "source": [
    "#the very cool thing about dataframes is that you can operate on them as a single unit. NO NEED TO ITERATE EXPLICITLY!\n",
    "df = df * 10\n",
    "df"
   ]
  },
  {
   "cell_type": "code",
   "execution_count": null,
   "metadata": {},
   "outputs": [],
   "source": [
    "#you can use apply method to perform a more complex operation. \n",
    "#remove the comment below and shift+tab+tab_tab inside the apply brackets to bring up the documentation. Yes, three tabs. See what each one does!\n",
    "\n",
    "#df.apply()"
   ]
  },
  {
   "cell_type": "code",
   "execution_count": null,
   "metadata": {},
   "outputs": [],
   "source": [
    "def add100(x):\n",
    "    return x + 100"
   ]
  },
  {
   "cell_type": "code",
   "execution_count": null,
   "metadata": {},
   "outputs": [],
   "source": [
    "#let's apply this function to \n",
    "df.apply(add100)"
   ]
  },
  {
   "cell_type": "code",
   "execution_count": null,
   "metadata": {},
   "outputs": [],
   "source": [
    "#notice that the original dataframe does not change. This can get tricky. \n",
    "#If you want to change the df, assign it to itself. Or some methods have inplace=True parameters to force change inplace\n",
    "df"
   ]
  },
  {
   "cell_type": "code",
   "execution_count": null,
   "metadata": {},
   "outputs": [],
   "source": [
    "#you can also use lambda or anonymous functions to do the same\n",
    "df.apply(lambda x: x+100)"
   ]
  },
  {
   "cell_type": "markdown",
   "metadata": {},
   "source": [
    "## How to get help?"
   ]
  },
  {
   "cell_type": "code",
   "execution_count": null,
   "metadata": {},
   "outputs": [],
   "source": [
    "import pandas as pd"
   ]
  },
  {
   "cell_type": "code",
   "execution_count": null,
   "metadata": {},
   "outputs": [],
   "source": [
    "pd?"
   ]
  },
  {
   "cell_type": "code",
   "execution_count": null,
   "metadata": {},
   "outputs": [],
   "source": [
    "# shift + tab\n",
    "# shift + tab + tab\n",
    "# shift + tab + tab"
   ]
  },
  {
   "cell_type": "code",
   "execution_count": null,
   "metadata": {},
   "outputs": [],
   "source": []
  },
  {
   "cell_type": "code",
   "execution_count": null,
   "metadata": {},
   "outputs": [],
   "source": []
  }
 ],
 "metadata": {
  "kernelspec": {
   "display_name": "Python 3",
   "language": "python",
   "name": "python3"
  },
  "language_info": {
   "codemirror_mode": {
    "name": "ipython",
    "version": 3
   },
   "file_extension": ".py",
   "mimetype": "text/x-python",
   "name": "python",
   "nbconvert_exporter": "python",
   "pygments_lexer": "ipython3",
   "version": "3.7.7"
  }
 },
 "nbformat": 4,
 "nbformat_minor": 4
}
